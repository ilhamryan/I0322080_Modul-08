{
 "cells": [
  {
   "attachments": {},
   "cell_type": "markdown",
   "metadata": {},
   "source": [
    "# File"
   ]
  },
  {
   "attachments": {},
   "cell_type": "markdown",
   "metadata": {},
   "source": [
    "### Objek File\n",
    "Berikut merupakan contoh program untuk memanggil file dengan mode \"r\""
   ]
  },
  {
   "cell_type": "code",
   "execution_count": 7,
   "metadata": {},
   "outputs": [],
   "source": [
    "obj_file = open(\"Biodata.txt\",\"r\") ##Lokasi disesuiakan dengan lokasi penyimpananan file pada device praktikan"
   ]
  },
  {
   "attachments": {},
   "cell_type": "markdown",
   "metadata": {},
   "source": [
    "### readlines\n",
    "Perintah di bawah ini akan menampilkan file dengan format list"
   ]
  },
  {
   "cell_type": "code",
   "execution_count": 8,
   "metadata": {},
   "outputs": [
    {
     "name": "stdout",
     "output_type": "stream",
     "text": [
      "['Nama: #N/A\\n', 'Umur: #N/A\\n', 'Alamat: #N/A']\n"
     ]
    }
   ],
   "source": [
    "# buka file\n",
    "file_biodata = open(\"Biodata.txt\",\"r\")\n",
    "# baca isi file\n",
    "print(file_biodata.readlines())\n",
    "# tutup file\n",
    "file_biodata.close()"
   ]
  },
  {
   "attachments": {},
   "cell_type": "markdown",
   "metadata": {},
   "source": [
    "### read\n",
    "Perintah di bawah ini akan menampilkan file dengan format text"
   ]
  },
  {
   "cell_type": "code",
   "execution_count": 9,
   "metadata": {},
   "outputs": [
    {
     "name": "stdout",
     "output_type": "stream",
     "text": [
      "Nama: #N/A\n",
      "Umur: #N/A\n",
      "Alamat: #N/A\n"
     ]
    }
   ],
   "source": [
    "# buka file\n",
    "file_biodata = open(\"Biodata.txt\",\"r\")\n",
    "# baca isi file\n",
    "print(file_biodata.read())\n",
    "# tutup file\n",
    "file_biodata.close()"
   ]
  },
  {
   "attachments": {},
   "cell_type": "markdown",
   "metadata": {},
   "source": [
    "### write\n",
    "Perintah di bawah ini merupakah akses untuk menulis ulang dari file yang ada"
   ]
  },
  {
   "cell_type": "code",
   "execution_count": 15,
   "metadata": {},
   "outputs": [
    {
     "name": "stdout",
     "output_type": "stream",
     "text": [
      "Selamat Datang di Program Biodata\n",
      "---------------------------------\n",
      "Data anda berhasil ditulis\n"
     ]
    }
   ],
   "source": [
    "print(\"Selamat Datang di Program Biodata\")\n",
    "print(\"---------------------------------\")\n",
    "\n",
    "# Mengambil input dari user\n",
    "nama = input(\"Nama: \")\n",
    "umur = input(\"Umur: \")\n",
    "alamat = input(\"Alamat: \")\n",
    "\n",
    "# Format teks\n",
    "teks = \"Nama: {}\\nUmur: {}\\nAlamat: {}\".format(nama,umur,alamat)\n",
    "\n",
    "# Buka file untuk ditulis\n",
    "file_biodata = open(\"Biodata.txt\",\"w\")\n",
    "\n",
    "# Tulis teks ke file\n",
    "file_biodata.write(teks)\n",
    "\n",
    "#tutup file\n",
    "file_biodata.close()\n",
    "\n",
    "print(\"Data anda berhasil ditulis\")"
   ]
  },
  {
   "attachments": {},
   "cell_type": "markdown",
   "metadata": {},
   "source": [
    "### append\n",
    "Perintah di bawah ini merupakah akses untuk menambahkan text dari file yang ada"
   ]
  },
  {
   "cell_type": "code",
   "execution_count": 16,
   "metadata": {},
   "outputs": [
    {
     "name": "stdout",
     "output_type": "stream",
     "text": [
      "Selamat Datang di Program Biodata\n",
      "---------------------------------\n",
      "Data anda berhasil ditambahkan\n"
     ]
    }
   ],
   "source": [
    "print(\"Selamat Datang di Program Biodata\")\n",
    "print(\"---------------------------------\")\n",
    "\n",
    "# Mengambil input dari user\n",
    "nama = input(\"Nama: \")\n",
    "umur = input(\"Umur: \")\n",
    "alamat = input(\"Alamat: \")\n",
    "\n",
    "# Format teks\n",
    "teks = \"\\n\\nNama: {}\\nUmur: {}\\nAlamat: {}\".format(nama,umur,alamat)\n",
    "\n",
    "# Buka file untuk ditambahkan\n",
    "file_biodata = open(\"Biodata.txt\",\"a\")\n",
    "\n",
    "# Tulis teks ke file\n",
    "file_biodata.write(teks)\n",
    "\n",
    "#tutup file\n",
    "file_biodata.close()\n",
    "\n",
    "print(\"Data anda berhasil ditambahkan\")"
   ]
  },
  {
   "attachments": {},
   "cell_type": "markdown",
   "metadata": {},
   "source": [
    "# Direktori "
   ]
  },
  {
   "attachments": {},
   "cell_type": "markdown",
   "metadata": {},
   "source": [
    "### Membuat Direktori\n",
    "Berikut merupakan perintah untuk membuat direktori baru"
   ]
  },
  {
   "cell_type": "code",
   "execution_count": 21,
   "metadata": {},
   "outputs": [],
   "source": [
    "import os\n",
    "\n",
    "def main():\n",
    "    os.mkdir(\"modul_08\")\n",
    "\n",
    "ifname:\"main\"\n",
    "main()"
   ]
  },
  {
   "attachments": {},
   "cell_type": "markdown",
   "metadata": {},
   "source": [
    "### Merubah Nama Direktori\n",
    "Berikut merupakan perintah untuk merubah nama dari direktori"
   ]
  },
  {
   "cell_type": "code",
   "execution_count": 22,
   "metadata": {},
   "outputs": [],
   "source": [
    "import os\n",
    "\n",
    "def main():\n",
    "    os.rename(\"modul_08\",\"submodul_08\")\n",
    "\n",
    "ifname:\"main\"\n",
    "main()"
   ]
  },
  {
   "attachments": {},
   "cell_type": "markdown",
   "metadata": {},
   "source": [
    "### Menghapus Direktori\n",
    "Berikut merupakan perintah untuk menghapus direktori yang sudah ada"
   ]
  },
  {
   "cell_type": "code",
   "execution_count": 19,
   "metadata": {},
   "outputs": [],
   "source": [
    "import os\n",
    "\n",
    "def main():\n",
    "    os.rmdir(\"submodul_08\")\n",
    "\n",
    "ifname:\"main\"\n",
    "main()"
   ]
  },
  {
   "cell_type": "code",
   "execution_count": null,
   "metadata": {},
   "outputs": [],
   "source": [
    "import os\n",
    "\n",
    "#menentukan jumlah file yang ingin dibuat\n",
    "jumlah_file = 20\n",
    "\n",
    "#loop untuk membuat file\n",
    "for i in range(1, jumlah_file+1):\n",
    "    #membuat nama file\n",
    "    nama_file=f'mahasiswa_{i}.py'\n",
    "    #membuka file dan menulis konten\n",
    "    with open(nama_file,'w')as file:\n",
    "        file.write('# NIM ANGKATAN 2022\\n')\n",
    "        file.write(f'NIM=['I032200{i}]')"
   ]
  },
  {
   "attachments": {},
   "cell_type": "markdown",
   "metadata": {},
   "source": [
    "# Modul"
   ]
  },
  {
   "attachments": {},
   "cell_type": "markdown",
   "metadata": {},
   "source": [
    "### Perintah import"
   ]
  },
  {
   "cell_type": "code",
   "execution_count": 20,
   "metadata": {},
   "outputs": [],
   "source": [
    "import Geometri2D"
   ]
  },
  {
   "attachments": {},
   "cell_type": "markdown",
   "metadata": {},
   "source": [
    "Menggunakan Modul dengan Perintah import"
   ]
  },
  {
   "cell_type": "code",
   "execution_count": 24,
   "metadata": {},
   "outputs": [
    {
     "name": "stdout",
     "output_type": "stream",
     "text": [
      "Luas persegi panjang adalah 8\n",
      "Keliling persegi panjang adalah 12\n"
     ]
    }
   ],
   "source": [
    "# Persegi Panjang\n",
    "\n",
    "# Mendefinisikan panjang dan lebar persegi panjang\n",
    "p = 2\n",
    "l = 4\n",
    "\n",
    "# Menghitung luas dan keliling persegi panjang\n",
    "luas = Geometri2D.LuasPersegiPanjang(p,l)\n",
    "keliling = Geometri2D.KelilingPersegiPanjang(p,l)\n",
    "\n",
    "# Menampilkan hasil\n",
    "print(\"Luas persegi panjang adalah\", luas)\n",
    "print(\"Keliling persegi panjang adalah\", keliling)"
   ]
  },
  {
   "attachments": {},
   "cell_type": "markdown",
   "metadata": {},
   "source": [
    "### Perintah from ... import ..."
   ]
  },
  {
   "attachments": {},
   "cell_type": "markdown",
   "metadata": {},
   "source": [
    "Menggunakan Modul dengan Perintah from ... import ..."
   ]
  },
  {
   "cell_type": "code",
   "execution_count": 25,
   "metadata": {},
   "outputs": [
    {
     "name": "stdout",
     "output_type": "stream",
     "text": [
      "Luas persegi panjang adalah 8\n"
     ]
    }
   ],
   "source": [
    "# Luas Persegi Panjang dalam Modul Geometri2D.py\n",
    "\n",
    "from Geometri2D import LuasPersegiPanjang\n",
    "\n",
    "# Mendefinisikan panjang dan lebar persegi panjang\n",
    "p = 2\n",
    "l = 4\n",
    "\n",
    "# Menghitung luas persegi panjang\n",
    "luas = LuasPersegiPanjang(p,l)\n",
    "\n",
    "# Menampilkan hasil\n",
    "print(\"Luas persegi panjang adalah\", luas)"
   ]
  },
  {
   "attachments": {},
   "cell_type": "markdown",
   "metadata": {},
   "source": [
    "### Nama Alias Modul"
   ]
  },
  {
   "attachments": {},
   "cell_type": "markdown",
   "metadata": {},
   "source": [
    "Membuat Nama Alias"
   ]
  },
  {
   "cell_type": "code",
   "execution_count": 26,
   "metadata": {},
   "outputs": [],
   "source": [
    "import Geometri2D as DuaD"
   ]
  },
  {
   "attachments": {},
   "cell_type": "markdown",
   "metadata": {},
   "source": [
    "Menggunakan Modul dengan Nama Alias"
   ]
  },
  {
   "cell_type": "code",
   "execution_count": 27,
   "metadata": {},
   "outputs": [
    {
     "name": "stdout",
     "output_type": "stream",
     "text": [
      "Luas persegi panjang adalah 8\n",
      "Keliling persegi panjang adalah 12\n"
     ]
    }
   ],
   "source": [
    "# Persegi Panjang\n",
    "\n",
    "# Mendefinisikan panjang dan lebar persegi panjang\n",
    "p = 2\n",
    "l = 4\n",
    "\n",
    "# Menghitung luas dan keliling persegi panjang\n",
    "luas = DuaD.LuasPersegiPanjang(p,l)\n",
    "keliling = DuaD.KelilingPersegiPanjang(p,l)\n",
    "\n",
    "# Menampilkan hasil\n",
    "print(\"Luas persegi panjang adalah\", luas)\n",
    "print(\"Keliling persegi panjang adalah\", keliling)"
   ]
  },
  {
   "attachments": {},
   "cell_type": "markdown",
   "metadata": {},
   "source": [
    "## Exercise\n",
    "1. Buatlah 1 file .txt baru pada direktori yang sama dengan Biodata.txt lalu isilah file tersebut menggunakan syntax python dan gabungkan kedua file tersebut menjadi 1\n",
    "\n",
    "2. Buatlah 1 modul dengan nama Geometri3D.py baru pada direktori yang sama dengan Geometri3D.py yang berisi fungsi beberapa volume dan luas permukaan dari bangun ruang. Cobalah menggunakan modul baru yang kalian buat seperti contoh di atas!"
   ]
  },
  {
   "attachments": {},
   "cell_type": "markdown",
   "metadata": {},
   "source": [
    "No. 1"
   ]
  },
  {
   "cell_type": "code",
   "execution_count": 28,
   "metadata": {},
   "outputs": [
    {
     "name": "stdout",
     "output_type": "stream",
     "text": [
      "File baru berhasil dibuat dan kedua file berhasil digabungkan!\n"
     ]
    }
   ],
   "source": [
    "# Membuat file .txt baru\n",
    "new_file_path = \"./NewFile.txt\"  # Nama dan path file baru\n",
    "new_file = open(new_file_path, \"w\")  # Membuka file baru dalam mode write (\"w\")\n",
    "\n",
    "# Mengisi file baru dengan konten\n",
    "new_file.write(\"Ini adalah konten file baru.\\n\")\n",
    "new_file.write(\"Tambahkan konten lainnya di sini.\")\n",
    "\n",
    "# Menutup file baru\n",
    "new_file.close()\n",
    "\n",
    "# Menggabungkan kedua file\n",
    "biodata_file_path = \"./Biodata.txt\"  # Path file Biodata.txt\n",
    "merged_file_path = \"./MergedFile.txt\"  # Nama dan path file hasil penggabungan\n",
    "\n",
    "with open(biodata_file_path, \"r\") as biodata_file:\n",
    "    biodata_content = biodata_file.read()\n",
    "\n",
    "with open(new_file_path, \"r\") as new_file:\n",
    "    new_content = new_file.read()\n",
    "\n",
    "merged_content = biodata_content + \"\\n\" + new_content\n",
    "\n",
    "# Menyimpan hasil penggabungan ke file baru\n",
    "with open(merged_file_path, \"w\") as merged_file:\n",
    "    merged_file.write(merged_content)\n",
    "\n",
    "\n"
   ]
  },
  {
   "cell_type": "code",
   "execution_count": 29,
   "metadata": {},
   "outputs": [],
   "source": [
    "# Modul Geometri3D.py\n",
    "\n",
    "import math\n",
    "\n",
    "def kubus(sisi):\n",
    "    \"\"\"Menghitung volume dan luas permukaan kubus.\"\"\"\n",
    "    volume = sisi ** 3\n",
    "    luas_permukaan = 6 * sisi ** 2\n",
    "    return volume, luas_permukaan\n",
    "\n",
    "def balok(panjang, lebar, tinggi):\n",
    "    \"\"\"Menghitung volume dan luas permukaan balok.\"\"\"\n",
    "    volume = panjang * lebar * tinggi\n",
    "    luas_permukaan = 2 * (panjang * lebar + panjang * tinggi + lebar * tinggi)\n",
    "    return volume, luas_permukaan\n",
    "\n",
    "def tabung(jari_jari, tinggi):\n",
    "    \"\"\"Menghitung volume dan luas permukaan tabung.\"\"\"\n",
    "    volume = math.pi * jari_jari ** 2 * tinggi\n",
    "    luas_permukaan = 2 * math.pi * jari_jari * (jari_jari + tinggi)\n",
    "    return volume, luas_permukaan\n",
    "\n",
    "# Menambahkan fungsi-fungsi lainnya sesuai kebutuhan\n"
   ]
  }
 ],
 "metadata": {
  "kernelspec": {
   "display_name": "Python 3",
   "language": "python",
   "name": "python3"
  },
  "language_info": {
   "codemirror_mode": {
    "name": "ipython",
    "version": 3
   },
   "file_extension": ".py",
   "mimetype": "text/x-python",
   "name": "python",
   "nbconvert_exporter": "python",
   "pygments_lexer": "ipython3",
   "version": "3.10.7"
  },
  "orig_nbformat": 4
 },
 "nbformat": 4,
 "nbformat_minor": 2
}
